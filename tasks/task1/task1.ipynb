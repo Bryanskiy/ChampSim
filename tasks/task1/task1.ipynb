{
 "cells": [
  {
   "cell_type": "code",
   "execution_count": 1,
   "metadata": {},
   "outputs": [],
   "source": [
    "import json\n",
    "import executor"
   ]
  },
  {
   "cell_type": "code",
   "execution_count": 2,
   "metadata": {},
   "outputs": [],
   "source": [
    "ROOT_DIR = \"/home/huawei/dev/ChampSim\"\n",
    "BIMODAL_CFG = \"tasks/task1/configs/bimodal.json\"\n",
    "GAg_CFG = \"tasks/task1/configs/GAg.json\"\n",
    "GAp_CFG = \"tasks/task1/configs/GAp.json\"\n",
    "TRACES_DIR = \"tasks/traces\"\n",
    "RESULTS_DIR = \"tasks/task1/results\"\n",
    "WARMUP = 5000000\n",
    "INSTRS_COUNT = 20000000"
   ]
  },
  {
   "cell_type": "markdown",
   "metadata": {},
   "source": [
    "#### Collect stats from bimodal bp"
   ]
  },
  {
   "cell_type": "code",
   "execution_count": 3,
   "metadata": {},
   "outputs": [
    {
     "name": "stdout",
     "output_type": "stream",
     "text": [
      "mkdir /home/huawei/dev/ChampSim/.csconfig/f90d307c/obj\n",
      "mkdir /home/huawei/dev/ChampSim/.csconfig/f90d307c/btbDbasic_btb\n",
      "mkdir /home/huawei/dev/ChampSim/.csconfig/f90d307c/branchDbimodal\n",
      "mkdir /home/huawei/dev/ChampSim/.csconfig/f90d307c/prefetcherDno\n",
      "mkdir /home/huawei/dev/ChampSim/.csconfig/f90d307c/prefetcherDno_instr\n",
      "mkdir /home/huawei/dev/ChampSim/.csconfig/f90d307c/replacementDlru\n",
      "g++ --std=c++17 -O3 -Wall -Wextra -Wshadow -Wpedantic -MMD -I/home/huawei/dev/ChampSim/inc -isystem /home/huawei/dev/ChampSim/vcpkg_installed/x64-linux/include -I/home/huawei/dev/ChampSim/src -I/home/huawei/dev/ChampSim/.csconfig/f90d307c/inc  -c -o /home/huawei/dev/ChampSim/.csconfig/f90d307c/obj/channel.o /home/huawei/dev/ChampSim/src/channel.cc\n",
      "g++ --std=c++17 -O3 -Wall -Wextra -Wshadow -Wpedantic -MMD -I/home/huawei/dev/ChampSim/inc -isystem /home/huawei/dev/ChampSim/vcpkg_installed/x64-linux/include -I/home/huawei/dev/ChampSim/src -I/home/huawei/dev/ChampSim/.csconfig/f90d307c/inc  -c -o /home/huawei/dev/ChampSim/.csconfig/f90d307c/obj/ptw.o /home/huawei/dev/ChampSim/src/ptw.cc\n",
      "g++ --std=c++17 -O3 -Wall -Wextra -Wshadow -Wpedantic -MMD -I/home/huawei/dev/ChampSim/inc -isystem /home/huawei/dev/ChampSim/vcpkg_installed/x64-linux/include -I/home/huawei/dev/ChampSim/src -I/home/huawei/dev/ChampSim/.csconfig/f90d307c/inc  -c -o /home/huawei/dev/ChampSim/.csconfig/f90d307c/obj/plain_printer.o /home/huawei/dev/ChampSim/src/plain_printer.cc\n",
      "g++ --std=c++17 -O3 -Wall -Wextra -Wshadow -Wpedantic -MMD -I/home/huawei/dev/ChampSim/inc -isystem /home/huawei/dev/ChampSim/vcpkg_installed/x64-linux/include -I/home/huawei/dev/ChampSim/src -I/home/huawei/dev/ChampSim/.csconfig/f90d307c/inc  -c -o /home/huawei/dev/ChampSim/.csconfig/f90d307c/obj/json_printer.o /home/huawei/dev/ChampSim/src/json_printer.cc\n",
      "g++ --std=c++17 -O3 -Wall -Wextra -Wshadow -Wpedantic -MMD -I/home/huawei/dev/ChampSim/inc -isystem /home/huawei/dev/ChampSim/vcpkg_installed/x64-linux/include -I/home/huawei/dev/ChampSim/src -I/home/huawei/dev/ChampSim/.csconfig/f90d307c/inc  -c -o /home/huawei/dev/ChampSim/.csconfig/f90d307c/obj/tracereader.o /home/huawei/dev/ChampSim/src/tracereader.cc\n",
      "g++ --std=c++17 -O3 -Wall -Wextra -Wshadow -Wpedantic -MMD -I/home/huawei/dev/ChampSim/inc -isystem /home/huawei/dev/ChampSim/vcpkg_installed/x64-linux/include -I/home/huawei/dev/ChampSim/src -I/home/huawei/dev/ChampSim/.csconfig/f90d307c/inc  -c -o /home/huawei/dev/ChampSim/.csconfig/f90d307c/obj/ooo_cpu.o /home/huawei/dev/ChampSim/src/ooo_cpu.cc\n",
      "g++ --std=c++17 -O3 -Wall -Wextra -Wshadow -Wpedantic -MMD -I/home/huawei/dev/ChampSim/inc -isystem /home/huawei/dev/ChampSim/vcpkg_installed/x64-linux/include -I/home/huawei/dev/ChampSim/src -I/home/huawei/dev/ChampSim/.csconfig/f90d307c/inc  -c -o /home/huawei/dev/ChampSim/.csconfig/f90d307c/obj/main.o /home/huawei/dev/ChampSim/src/main.cc\n",
      "g++ --std=c++17 -O3 -Wall -Wextra -Wshadow -Wpedantic -MMD -I/home/huawei/dev/ChampSim/inc -isystem /home/huawei/dev/ChampSim/vcpkg_installed/x64-linux/include -I/home/huawei/dev/ChampSim/src -I/home/huawei/dev/ChampSim/.csconfig/f90d307c/inc  -c -o /home/huawei/dev/ChampSim/.csconfig/f90d307c/obj/cache.o /home/huawei/dev/ChampSim/src/cache.cc\n",
      "g++ --std=c++17 -O3 -Wall -Wextra -Wshadow -Wpedantic -MMD -I/home/huawei/dev/ChampSim/inc -isystem /home/huawei/dev/ChampSim/vcpkg_installed/x64-linux/include -I/home/huawei/dev/ChampSim/src -I/home/huawei/dev/ChampSim/.csconfig/f90d307c/inc  -c -o /home/huawei/dev/ChampSim/.csconfig/f90d307c/obj/champsim.o /home/huawei/dev/ChampSim/src/champsim.cc\n",
      "g++ --std=c++17 -O3 -Wall -Wextra -Wshadow -Wpedantic -MMD -I/home/huawei/dev/ChampSim/inc -isystem /home/huawei/dev/ChampSim/vcpkg_installed/x64-linux/include -I/home/huawei/dev/ChampSim/src -I/home/huawei/dev/ChampSim/.csconfig/f90d307c/inc  -c -o /home/huawei/dev/ChampSim/.csconfig/f90d307c/obj/dram_controller.o /home/huawei/dev/ChampSim/src/dram_controller.cc\n",
      "g++ --std=c++17 -O3 -Wall -Wextra -Wshadow -Wpedantic -MMD -I/home/huawei/dev/ChampSim/inc -isystem /home/huawei/dev/ChampSim/vcpkg_installed/x64-linux/include -I/home/huawei/dev/ChampSim/src -I/home/huawei/dev/ChampSim/.csconfig/f90d307c/inc  -c -o /home/huawei/dev/ChampSim/.csconfig/f90d307c/obj/vmem.o /home/huawei/dev/ChampSim/src/vmem.cc\n",
      "g++ --std=c++17 -O3 -Wall -Wextra -Wshadow -Wpedantic -Wno-unused-parameter -MMD -I/home/huawei/dev/ChampSim/inc -isystem /home/huawei/dev/ChampSim/vcpkg_installed/x64-linux/include -I/home/huawei/dev/ChampSim/btb/basic_btb -DCHAMPSIM_MODULE -I/home/huawei/dev/ChampSim/.csconfig/f90d307c/inc -include btbDbasic_btb.inc  -c -o /home/huawei/dev/ChampSim/.csconfig/f90d307c/btbDbasic_btb/basic_btb.o /home/huawei/dev/ChampSim/btb/basic_btb/basic_btb.cc\n",
      "g++ --std=c++17 -O3 -Wall -Wextra -Wshadow -Wpedantic -Wno-unused-parameter -MMD -I/home/huawei/dev/ChampSim/inc -isystem /home/huawei/dev/ChampSim/vcpkg_installed/x64-linux/include -I/home/huawei/dev/ChampSim/branch/bimodal -DCHAMPSIM_MODULE -I/home/huawei/dev/ChampSim/.csconfig/f90d307c/inc -include branchDbimodal.inc  -c -o /home/huawei/dev/ChampSim/.csconfig/f90d307c/branchDbimodal/bimodal.o /home/huawei/dev/ChampSim/branch/bimodal/bimodal.cc\n",
      "g++ --std=c++17 -O3 -Wall -Wextra -Wshadow -Wpedantic -Wno-unused-parameter -MMD -I/home/huawei/dev/ChampSim/inc -isystem /home/huawei/dev/ChampSim/vcpkg_installed/x64-linux/include -I/home/huawei/dev/ChampSim/prefetcher/no -DCHAMPSIM_MODULE -I/home/huawei/dev/ChampSim/.csconfig/f90d307c/inc -include prefetcherDno.inc  -c -o /home/huawei/dev/ChampSim/.csconfig/f90d307c/prefetcherDno/no.o /home/huawei/dev/ChampSim/prefetcher/no/no.cc\n",
      "g++ --std=c++17 -O3 -Wall -Wextra -Wshadow -Wpedantic -Wno-unused-parameter -MMD -I/home/huawei/dev/ChampSim/inc -isystem /home/huawei/dev/ChampSim/vcpkg_installed/x64-linux/include -I/home/huawei/dev/ChampSim/prefetcher/no_instr -DCHAMPSIM_MODULE -I/home/huawei/dev/ChampSim/.csconfig/f90d307c/inc -include prefetcherDno_instr.inc  -c -o /home/huawei/dev/ChampSim/.csconfig/f90d307c/prefetcherDno_instr/no.o /home/huawei/dev/ChampSim/prefetcher/no_instr/no.cc\n",
      "g++ --std=c++17 -O3 -Wall -Wextra -Wshadow -Wpedantic -Wno-unused-parameter -MMD -I/home/huawei/dev/ChampSim/inc -isystem /home/huawei/dev/ChampSim/vcpkg_installed/x64-linux/include -I/home/huawei/dev/ChampSim/replacement/lru -DCHAMPSIM_MODULE -I/home/huawei/dev/ChampSim/.csconfig/f90d307c/inc -include replacementDlru.inc  -c -o /home/huawei/dev/ChampSim/.csconfig/f90d307c/replacementDlru/lru.o /home/huawei/dev/ChampSim/replacement/lru/lru.cc\n",
      "g++ --std=c++17 -O3 -Wall -Wextra -Wshadow -Wpedantic -MMD -I/home/huawei/dev/ChampSim/inc -isystem /home/huawei/dev/ChampSim/vcpkg_installed/x64-linux/include -L/home/huawei/dev/ChampSim/vcpkg_installed/x64-linux/lib -L/home/huawei/dev/ChampSim/vcpkg_installed/x64-linux/lib/manual-link  -L/home/huawei/dev/ChampSim/vcpkg_installed/x64-linux/lib -L/home/huawei/dev/ChampSim/vcpkg_installed/x64-linux/lib/manual-link -o /home/huawei/dev/ChampSim/bin/champsim /home/huawei/dev/ChampSim/.csconfig/f90d307c/obj/channel.o /home/huawei/dev/ChampSim/.csconfig/f90d307c/obj/ptw.o /home/huawei/dev/ChampSim/.csconfig/f90d307c/obj/plain_printer.o /home/huawei/dev/ChampSim/.csconfig/f90d307c/obj/json_printer.o /home/huawei/dev/ChampSim/.csconfig/f90d307c/obj/tracereader.o /home/huawei/dev/ChampSim/.csconfig/f90d307c/obj/ooo_cpu.o /home/huawei/dev/ChampSim/.csconfig/f90d307c/obj/main.o /home/huawei/dev/ChampSim/.csconfig/f90d307c/obj/cache.o /home/huawei/dev/ChampSim/.csconfig/f90d307c/obj/champsim.o /home/huawei/dev/ChampSim/.csconfig/f90d307c/obj/dram_controller.o /home/huawei/dev/ChampSim/.csconfig/f90d307c/obj/vmem.o /home/huawei/dev/ChampSim/.csconfig/f90d307c/btbDbasic_btb/basic_btb.o /home/huawei/dev/ChampSim/.csconfig/f90d307c/branchDbimodal/bimodal.o /home/huawei/dev/ChampSim/.csconfig/f90d307c/prefetcherDno/no.o /home/huawei/dev/ChampSim/.csconfig/f90d307c/prefetcherDno_instr/no.o /home/huawei/dev/ChampSim/.csconfig/f90d307c/replacementDlru/lru.o  -llzma -lz -lbz2 -lfmt\n"
     ]
    }
   ],
   "source": [
    "executor.build_sim(BIMODAL_CFG, ROOT_DIR)"
   ]
  },
  {
   "cell_type": "code",
   "execution_count": 4,
   "metadata": {},
   "outputs": [
    {
     "name": "stdout",
     "output_type": "stream",
     "text": [
      "Running 641.leela_s-149B.champsimtrace.xz...........................\n",
      "WARNING: physical memory size is smaller than virtual memory size.\n",
      "WARNING: option --warmup_instructions is deprecated. Use --warmup-instructions instead.\n",
      "WARNING: option --simulation_instructions is deprecated. Use --simulation-instructions instead.\n",
      "\n",
      "*** ChampSim Multicore Out-of-Order Simulator ***\n",
      "Warmup Instructions: 5000000\n",
      "Simulation Instructions: 20000000\n",
      "Number of CPUs: 1\n",
      "Page size: 4096\n",
      "\n",
      "Off-chip DRAM Size: 4 GiB Channels: 1 Width: 64-bit Data Race: 3200 MT/s\n",
      "Warmup finished CPU 0 instructions: 5000003 cycles: 1263985 cumulative IPC: 3.956 (Simulation time: 00 hr 00 min 10 sec)\n",
      "Warmup complete CPU 0 instructions: 5000003 cycles: 1263985 cumulative IPC: 3.956 (Simulation time: 00 hr 00 min 10 sec)\n",
      "Heartbeat CPU 0 instructions: 10000002 cycles: 5679866 heartbeat IPC: 1.761 cumulative IPC: 1.132 (Simulation time: 00 hr 00 min 31 sec)\n",
      "Heartbeat CPU 0 instructions: 20000003 cycles: 13821746 heartbeat IPC: 1.228 cumulative IPC: 1.194 (Simulation time: 00 hr 01 min 13 sec)\n",
      "Simulation finished CPU 0 instructions: 20000003 cycles: 16944040 cumulative IPC: 1.18 (Simulation time: 00 hr 01 min 34 sec)\n",
      "Simulation complete CPU 0 instructions: 20000003 cycles: 16944040 cumulative IPC: 1.18 (Simulation time: 00 hr 01 min 34 sec)\n",
      "\n",
      "ChampSim completed all CPUs\n",
      "\n",
      "=== Simulation ===\n",
      "CPU 0 runs tasks/traces/641.leela_s-149B.champsimtrace.xz\n",
      "Region of Interest Statistics\n",
      "\n",
      "CPU 0 cumulative IPC: 1.18 instructions: 20000003 cycles: 16944040\n",
      "CPU 0 Branch Prediction Accuracy: 88.52% MPKI: 19.93 Average ROB Occupancy at Mispredict: 16.19\n",
      "Branch type MPKI\n",
      "BRANCH_DIRECT_JUMP: 0.105\n",
      "BRANCH_INDIRECT: 0.0238\n",
      "BRANCH_CONDITIONAL: 19.7\n",
      "BRANCH_DIRECT_CALL: 0.0141\n",
      "BRANCH_INDIRECT_CALL: 0.0089\n",
      "BRANCH_RETURN: 0.0417\n",
      "\n",
      "LLC TOTAL        ACCESS:     111932 HIT:      87059 MISS:      24873\n",
      "LLC LOAD         ACCESS:      40980 HIT:      23553 MISS:      17427\n",
      "LLC RFO          ACCESS:      29904 HIT:      22560 MISS:       7344\n",
      "LLC PREFETCH     ACCESS:          0 HIT:          0 MISS:          0\n",
      "LLC WRITE        ACCESS:      40874 HIT:      40874 MISS:          0\n",
      "LLC TRANSLATION  ACCESS:        174 HIT:         72 MISS:        102\n",
      "LLC PREFETCH REQUESTED:          0 ISSUED:          0 USEFUL:          0 USELESS:          0\n",
      "LLC AVERAGE MISS LATENCY: 176.8 cycles\n",
      "cpu0_DTLB TOTAL        ACCESS:    4917989 HIT:    4895906 MISS:      22083\n",
      "cpu0_DTLB LOAD         ACCESS:    4917989 HIT:    4895906 MISS:      22083\n",
      "cpu0_DTLB RFO          ACCESS:          0 HIT:          0 MISS:          0\n",
      "cpu0_DTLB PREFETCH     ACCESS:          0 HIT:          0 MISS:          0\n",
      "cpu0_DTLB WRITE        ACCESS:          0 HIT:          0 MISS:          0\n",
      "cpu0_DTLB TRANSLATION  ACCESS:          0 HIT:          0 MISS:          0\n",
      "cpu0_DTLB PREFETCH REQUESTED:          0 ISSUED:          0 USEFUL:          0 USELESS:          0\n",
      "cpu0_DTLB AVERAGE MISS LATENCY: 6.63 cycles\n",
      "cpu0_ITLB TOTAL        ACCESS:     737314 HIT:     736512 MISS:        802\n",
      "cpu0_ITLB LOAD         ACCESS:     737314 HIT:     736512 MISS:        802\n",
      "cpu0_ITLB RFO          ACCESS:          0 HIT:          0 MISS:          0\n",
      "cpu0_ITLB PREFETCH     ACCESS:          0 HIT:          0 MISS:          0\n",
      "cpu0_ITLB WRITE        ACCESS:          0 HIT:          0 MISS:          0\n",
      "cpu0_ITLB TRANSLATION  ACCESS:          0 HIT:          0 MISS:          0\n",
      "cpu0_ITLB PREFETCH REQUESTED:          0 ISSUED:          0 USEFUL:          0 USELESS:          0\n",
      "cpu0_ITLB AVERAGE MISS LATENCY: 17.41 cycles\n",
      "cpu0_L1D TOTAL        ACCESS:    6487013 HIT:    5740324 MISS:     746689\n",
      "cpu0_L1D LOAD         ACCESS:    3644625 HIT:    3341667 MISS:     302958\n",
      "cpu0_L1D RFO          ACCESS:          0 HIT:          0 MISS:          0\n",
      "cpu0_L1D PREFETCH     ACCESS:          0 HIT:          0 MISS:          0\n",
      "cpu0_L1D WRITE        ACCESS:    2841916 HIT:    2398472 MISS:     443444\n",
      "cpu0_L1D TRANSLATION  ACCESS:        472 HIT:        185 MISS:        287\n",
      "cpu0_L1D PREFETCH REQUESTED:          0 ISSUED:          0 USEFUL:          0 USELESS:          0\n",
      "cpu0_L1D AVERAGE MISS LATENCY: 7.834 cycles\n",
      "cpu0_L1I TOTAL        ACCESS:     831107 HIT:     820728 MISS:      10379\n",
      "cpu0_L1I LOAD         ACCESS:     831107 HIT:     820728 MISS:      10379\n",
      "cpu0_L1I RFO          ACCESS:          0 HIT:          0 MISS:          0\n",
      "cpu0_L1I PREFETCH     ACCESS:          0 HIT:          0 MISS:          0\n",
      "cpu0_L1I WRITE        ACCESS:          0 HIT:          0 MISS:          0\n",
      "cpu0_L1I TRANSLATION  ACCESS:          0 HIT:          0 MISS:          0\n",
      "cpu0_L1I PREFETCH REQUESTED:          0 ISSUED:          0 USEFUL:          0 USELESS:          0\n",
      "cpu0_L1I AVERAGE MISS LATENCY: 18.58 cycles\n",
      "cpu0_L2C TOTAL        ACCESS:     246867 HIT:     175787 MISS:      71080\n",
      "cpu0_L2C LOAD         ACCESS:     102363 HIT:      61383 MISS:      40980\n",
      "cpu0_L2C RFO          ACCESS:      59673 HIT:      29769 MISS:      29904\n",
      "cpu0_L2C PREFETCH     ACCESS:          0 HIT:          0 MISS:          0\n",
      "cpu0_L2C WRITE        ACCESS:      84544 HIT:      84522 MISS:         22\n",
      "cpu0_L2C TRANSLATION  ACCESS:        287 HIT:        113 MISS:        174\n",
      "cpu0_L2C PREFETCH REQUESTED:          0 ISSUED:          0 USEFUL:          0 USELESS:          0\n",
      "cpu0_L2C AVERAGE MISS LATENCY: 82.25 cycles\n",
      "cpu0_STLB TOTAL        ACCESS:      10270 HIT:       9799 MISS:        471\n",
      "cpu0_STLB LOAD         ACCESS:      10270 HIT:       9799 MISS:        471\n",
      "cpu0_STLB RFO          ACCESS:          0 HIT:          0 MISS:          0\n",
      "cpu0_STLB PREFETCH     ACCESS:          0 HIT:          0 MISS:          0\n",
      "cpu0_STLB WRITE        ACCESS:          0 HIT:          0 MISS:          0\n",
      "cpu0_STLB TRANSLATION  ACCESS:          0 HIT:          0 MISS:          0\n",
      "cpu0_STLB PREFETCH REQUESTED:          0 ISSUED:          0 USEFUL:          0 USELESS:          0\n",
      "cpu0_STLB AVERAGE MISS LATENCY: 264.4 cycles\n",
      "\n",
      "DRAM Statistics\n",
      "\n",
      "Channel 0 RQ ROW_BUFFER_HIT:      19165\n",
      "  ROW_BUFFER_MISS:       5708\n",
      " AVG DBUS CONGESTED CYCLE: 3.951\n",
      "WQ ROW_BUFFER_HIT: Channel 0 \n",
      "  ROW_BUFFER_MISS:          2\n",
      "  FULL:         21\n",
      "The results are recorded in tasks/tracesresults/bimodal/641.leela_s-149B.champsimtrace.xz.json.\n",
      "Running 603.bwaves_s-2931B.champsimtrace.xz...........................\n"
     ]
    }
   ],
   "source": [
    "executor.run_traces(TRACES_DIR, f\"{RESULTS_DIR}/bimodal\", ROOT_DIR, WARMUP, INSTRS_COUNT)"
   ]
  },
  {
   "cell_type": "code",
   "execution_count": null,
   "metadata": {},
   "outputs": [],
   "source": []
  }
 ],
 "metadata": {
  "kernelspec": {
   "display_name": "Python 3",
   "language": "python",
   "name": "python3"
  },
  "language_info": {
   "codemirror_mode": {
    "name": "ipython",
    "version": 3
   },
   "file_extension": ".py",
   "mimetype": "text/x-python",
   "name": "python",
   "nbconvert_exporter": "python",
   "pygments_lexer": "ipython3",
   "version": "3.10.11"
  },
  "orig_nbformat": 4
 },
 "nbformat": 4,
 "nbformat_minor": 2
}
